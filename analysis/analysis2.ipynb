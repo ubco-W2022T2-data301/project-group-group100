{
 "cells": [
  {
   "attachments": {},
   "cell_type": "markdown",
   "metadata": {},
   "source": [
    "# Shikari King"
   ]
  },
  {
   "attachments": {},
   "cell_type": "markdown",
   "metadata": {},
   "source": [
    "## Research question/interests\n",
    "\n",
    "I am personally interested in looking through the information and examining the inflation, interest, and unemployment rates for nations and countries with low-income economies. I'm interested in learning more about the connections between these three economic indicators and how they interact.\n",
    "\n",
    "In order to do this, I intend to examine the data and discover economic trends and policies. Thus understanding the underlying causes of low-income countries' high rates of inflation, interest rates, and unemployment would help me better comprehend the possible effects of changing policy on these metrics. Through this analysis, I hope to produce an analysis that is helpful to policymakers, economists, and researchers in tackling the issues these economies are facing."
   ]
  }
 ],
 "metadata": {
  "language_info": {
   "name": "plaintext"
  },
  "orig_nbformat": 4
 },
 "nbformat": 4,
 "nbformat_minor": 2
}
