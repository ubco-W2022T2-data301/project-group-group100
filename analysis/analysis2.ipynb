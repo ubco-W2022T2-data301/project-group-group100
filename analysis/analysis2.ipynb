{
 "cells": [
  {
   "cell_type": "markdown",
   "metadata": {},
   "source": [
    "# Shikari King"
   ]
  },
  {
   "cell_type": "markdown",
   "metadata": {},
   "source": [
    "## Research question/interests\n"
   ]
  },
  {
   "attachments": {},
   "cell_type": "markdown",
   "metadata": {},
   "source": [
    "## Research question/interests\n",
    "How do different factors contributing to happiness, such as income, social support, freedom, and corruption, vary across different regions in the world, and how do these regional differences affect overall levels of happiness and life satisfaction?"
   ]
  },
  {
   "cell_type": "code",
   "execution_count": 1,
   "metadata": {},
   "outputs": [],
   "source": [
    "import pandas as pd\n",
    "import numpy as np\n",
    "import matplotlib.pyplot as plt\n",
    "import seaborn as sns"
   ]
  },
  {
   "cell_type": "code",
   "execution_count": null,
   "metadata": {},
   "outputs": [],
   "source": [
    "Raw_Data_2015 = pd.read_csv('../data/raw/Raw Data/2015.csv')\n",
    "Raw_Data_2016 = pd.read_csv('../data/raw/Raw Data/2016.csv')\n",
    "Raw_Data_2017 = pd.read_csv('../data/raw/Raw Data/2017.csv')\n",
    "Raw_Data_2018 = pd.read_csv('../data/raw/Raw Data/2018.csv')\n",
    "Raw_Data_2019 = pd.read_csv('../data/raw/Raw Data/2019.csv')\n",
    "Raw_Data_2020 = pd.read_csv('../data/raw/Raw Data/2020.csv')\n",
    "Raw_Data_2021 = pd.read_csv('../data/raw/Raw Data/2021.csv')\n",
    "Raw_Data_2022 = pd.read_csv('../data/raw/Raw Data/2022.csv')"
   ]
  }
 ],
 "metadata": {
  "kernelspec": {
   "display_name": "Python 3 (ipykernel)",
   "language": "python",
   "name": "python3"
  },
  "language_info": {
   "codemirror_mode": {
    "name": "ipython",
    "version": 3
   },
   "file_extension": ".py",
   "mimetype": "text/x-python",
   "name": "python",
   "nbconvert_exporter": "python",
   "pygments_lexer": "ipython3",
   "version": "3.10.1"
  },
  "vscode": {
   "interpreter": {
    "hash": "44efe4b4969e1b925b940a99856f4054a109853b6520645b04000905b96f7488"
   }
  }
 },
 "nbformat": 4,
 "nbformat_minor": 4
}
