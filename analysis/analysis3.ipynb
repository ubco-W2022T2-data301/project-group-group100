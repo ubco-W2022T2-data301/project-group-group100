{
 "cells": [
  {
   "cell_type": "markdown",
   "metadata": {},
   "source": [
    "# Binh Dong"
   ]
  },
  {
   "cell_type": "markdown",
   "metadata": {},
   "source": [
    "## Research question/interests\n",
    "\n",
    "I'm interested in looking at the rates of inflation, interest, and unemployment for countries with high-income economies using the dataset \"Inflation, Interest, and Unemployment Rate.\" In order to examine the interactions between these three economic indicators and comprehend their effects on one another, I want to use descriptive statistics, data visualization, and regression analysis.\n",
    "\n",
    "I intend to find the underlying causes of high-income countries' inflation, interest, and unemployment rates as well as any significant trends or patterns in the data. I want to better understand these indicators' relationships with one another and how policy changes may affect them by examining the data.\n"
   ]
  }
 ],
 "metadata": {
  "language_info": {
   "name": "plaintext"
  },
  "orig_nbformat": 4
 },
 "nbformat": 4,
 "nbformat_minor": 2
}
