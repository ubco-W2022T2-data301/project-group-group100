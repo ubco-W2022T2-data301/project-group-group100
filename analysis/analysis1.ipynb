{
 "cells": [
  {
   "cell_type": "markdown",
   "metadata": {},
   "source": [
    "# BERAT CELIK"
   ]
  },
  {
   "cell_type": "markdown",
   "metadata": {},
   "source": [
    "## Research question/interests\n",
    "\n",
    "The \"Inflation, Interest, and Unemployment Rate\" dataset piques my interest. I want to examine the rates of inflation, interest, and unemployment for the economies of lower- and upper-middle-income countries. My research question focuses on examining the connections between various economic indicators, and I intend to do this by computing descriptive statistics, visualizing data, and performing regression analysis.\n",
    "\n",
    "I intend to utilize my analysis to better understand the macroeconomic patterns and practices of many nations and to apply what I learn to guide economic judgment. Finding out what influences unemployment, interest rates, and inflation as well as investigating the possible effects of changing policy on these variables are of great interest to me.\n",
    "\n",
    "\n"
   ]
  }
 ],
 "metadata": {
  "language_info": {
   "name": "plaintext"
  },
  "orig_nbformat": 4
 },
 "nbformat": 4,
 "nbformat_minor": 2
}
