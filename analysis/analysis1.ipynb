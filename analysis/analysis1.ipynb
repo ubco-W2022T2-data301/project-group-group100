{
 "cells": [
  {
   "attachments": {},
   "cell_type": "markdown",
   "metadata": {},
   "source": [
<<<<<<< HEAD
    "# Shikari King"
=======
    "# BERAT CELIK"
>>>>>>> 018c96cfb6f128616b6845b5eb92d944a7c7f16f
   ]
  },
  {
   "attachments": {},
   "cell_type": "markdown",
   "metadata": {},
   "source": [
    "## Research question/interests\n",
    "\n",
<<<<<<< HEAD
    "I am personally interested in looking through the information and examining the inflation, interest, and unemployment rates for nations and countries with low-income economies. I'm interested in learning more about the connections between these three economic indicators and how they interact.\n",
    "\n",
    "In order to do this, I intend to examine the data and discover economic trends and policies. Thus understanding the underlying causes of low-income countries' high rates of inflation, interest rates, and unemployment would help me better comprehend the possible effects of changing policy on these metrics. Through this analysis, I hope to produce an analysis that is helpful to policymakers, economists, and researchers in tackling the issues these economies are facing."
=======
    "The \"Inflation, Interest, and Unemployment Rate\" dataset piques my interest. I want to examine the rates of inflation, interest, and unemployment for the economies of lower- and upper-middle-income countries. My research question focuses on examining the connections between various economic indicators, and I intend to do this by computing descriptive statistics, visualizing data, and performing regression analysis.\n",
    "\n",
    "I intend to utilize my analysis to better understand the macroeconomic patterns and practices of many nations and to apply what I learn to guide economic judgment. Finding out what influences unemployment, interest rates, and inflation as well as investigating the possible effects of changing policy on these variables are of great interest to me.\n",
    "\n",
    "\n"
>>>>>>> 018c96cfb6f128616b6845b5eb92d944a7c7f16f
   ]
  }
 ],
 "metadata": {
  "language_info": {
   "name": "plaintext"
  },
  "orig_nbformat": 4
 },
 "nbformat": 4,
 "nbformat_minor": 2
}
