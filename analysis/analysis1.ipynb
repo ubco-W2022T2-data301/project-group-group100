{
 "cells": [
  {
   "cell_type": "markdown",
   "metadata": {},
   "source": [
    "# Berat Celik"
   ]
  },
  {
   "attachments": {},
   "cell_type": "markdown",
   "metadata": {},
   "source": [
    "## Research question/interests\n",
    "Is there a significant correlation between different factors that contribute to overall happiness, such as income, social support, freedom, generosity, and corruption, and how can this correlation be used to identify key areas for intervention? Additionally, what evidence-based interventions could be implemented to enhance these key areas and promote sustained and equitable well-being outcomes over time?"
   ]
  },
  {
   "cell_type": "code",
   "execution_count": 2,
   "metadata": {},
   "outputs": [],
   "source": [
    "import pandas as pd\n",
    "import numpy as np\n",
    "import matplotlib.pyplot as plt\n",
    "import seaborn as sns"
   ]
  },
  {
   "cell_type": "code",
   "execution_count": 3,
   "metadata": {},
   "outputs": [],
   "source": [
    "Raw_Data_2015 = pd.read_csv('../data/raw/Raw Data/2015.csv')\n",
    "Raw_Data_2016 = pd.read_csv('../data/raw/Raw Data/2016.csv')\n",
    "Raw_Data_2017 = pd.read_csv('../data/raw/Raw Data/2017.csv')\n",
    "Raw_Data_2018 = pd.read_csv('../data/raw/Raw Data/2018.csv')\n",
    "Raw_Data_2019 = pd.read_csv('../data/raw/Raw Data/2019.csv')\n",
    "Raw_Data_2020 = pd.read_csv('../data/raw/Raw Data/2020.csv')\n",
    "Raw_Data_2021 = pd.read_csv('../data/raw/Raw Data/2021.csv')\n",
    "Raw_Data_2022 = pd.read_csv('../data/raw/Raw Data/2022.csv')"
   ]
  },
  {
   "cell_type": "code",
   "execution_count": null,
   "metadata": {},
   "outputs": [],
   "source": []
  }
 ],
 "metadata": {
  "kernelspec": {
   "display_name": "Python 3 (ipykernel)",
   "language": "python",
   "name": "python3"
  },
  "language_info": {
   "codemirror_mode": {
    "name": "ipython",
    "version": 3
   },
   "file_extension": ".py",
   "mimetype": "text/x-python",
   "name": "python",
   "nbconvert_exporter": "python",
   "pygments_lexer": "ipython3",
   "version": "3.10.8"
  },
  "vscode": {
   "interpreter": {
    "hash": "2edead9ad2975815ae9e4828fc0151bd17ccb69009dd58ba44c741e5d4f112c8"
   }
  }
 },
 "nbformat": 4,
 "nbformat_minor": 4
}
