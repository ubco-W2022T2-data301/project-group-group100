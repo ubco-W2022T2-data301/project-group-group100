{
 "cells": [
  {
   "cell_type": "code",
   "execution_count": 2,
   "id": "dbd29f86-0dfa-4786-a249-21b2db530f51",
   "metadata": {},
   "outputs": [],
   "source": [
    "import pandas as pd\n",
    "import numpy as np\n",
    "import matplotlib.pyplot as plt\n",
    "import seaborn as sns"
   ]
  },
  {
   "cell_type": "code",
   "execution_count": 44,
   "id": "51b823ed-bc4f-4ea7-b599-f5495ae21f2d",
   "metadata": {},
   "outputs": [],
   "source": [
    "Raw_Data_2015 = pd.read_csv('../data/raw/Raw Data/2015.csv')\n",
    "Raw_Data_2016 = pd.read_csv('../data/raw/Raw Data/2016.csv')\n",
    "Raw_Data_2017 = pd.read_csv('../data/raw/Raw Data/2017.csv')\n",
    "Raw_Data_2018 = pd.read_csv('../data/raw/Raw Data/2018.csv')\n",
    "Raw_Data_2019 = pd.read_csv('../data/raw/Raw Data/2019.csv')\n",
    "Raw_Data_2020 = pd.read_csv('../data/raw/Raw Data/2020.csv')\n",
    "Raw_Data_2021 = pd.read_csv('../data/raw/Raw Data/2021.csv')\n",
    "Raw_Data_2022 = pd.read_csv('../data/raw/Raw Data/2022.csv')"
   ]
  },
  {
   "cell_type": "code",
   "execution_count": 69,
   "id": "d58641f8-f954-4303-8e31-ad35354c8e78",
   "metadata": {},
   "outputs": [],
   "source": [
    "Clean_Data_2015 = (Raw_Data_2015\n",
    "              .drop(['Standard Error'], axis=1)\n",
    "              .rename(columns={'Freedom': 'Freedom to make life choices'})\n",
    "               .to_csv('../data/processed/2015_Clean_Data.csv', index=False)\n",
    "                )\n"
   ]
  },
  {
   "cell_type": "code",
   "execution_count": 72,
   "id": "c7bc09f9-bf9f-4e13-bb64-fe338558bc40",
   "metadata": {},
   "outputs": [],
   "source": [
    "Clean_Data_2016 = (Raw_Data_2016\n",
    "              .drop(['Lower Confidence Interval', 'Upper Confidence Interval'], axis=1)\n",
    "              .rename(columns={'Freedom': 'Freedom to make life choices'})\n",
    "                )\n",
    "Clean_Data_2016.to_csv('../data/processed/2016_Clean_Data.csv', index=False)\n"
   ]
  },
  {
   "cell_type": "code",
   "execution_count": 73,
   "id": "34978836-c232-4a86-8691-8df0c58595bb",
   "metadata": {},
   "outputs": [],
   "source": [
    "Clean_Data_2017 = (Raw_Data_2017\n",
    "              .drop(['Whisker.high', 'Whisker.low'], axis=1)\n",
    "              .rename(columns={'Happiness.Rank': 'Happiness Rank' , 'Happiness.Score': 'Happiness Score'\n",
    "                              ,'Economy..GDP.per.Capita.': 'Economy (GDP per Capita)', 'Health..Life.Expectancy.': 'Health (Life Expectancy)'\n",
    "                              , 'Trust..Government.Corruption.': 'Trust (Government Corruption)', 'Dystopia.Residual': 'Dystopia Residual',\n",
    "                              'Freedom': 'Freedom to make life choices'})\n",
    "                )\n",
    "Clean_Data_2017['Region'] = Clean_Data_2017['Country'].map(Clean_Data_2016.set_index('Country')['Region'])\n",
    "Clean_Data_2017.to_csv('../data/processed/2017_Clean_Data.csv', index=False)"
   ]
  },
  {
   "cell_type": "code",
   "execution_count": 74,
   "id": "5f9b1901-3b72-4e86-a4c0-51904a939182",
   "metadata": {},
   "outputs": [],
   "source": [
    "Clean_Data_2018 = (Raw_Data_2018\n",
    "                   .rename(columns={'Country or region': 'Country', 'GDP per capita': 'Economy (GDP per Capita)',\n",
    "                                    'Healthy life expectancy':'Health (Life Expectancy)', 'Score': 'Happiness Score'})\n",
    "                )\n",
    "Clean_Data_2018['Region'] = Clean_Data_2018['Country'].map(Clean_Data_2016.set_index('Country')['Region'])\n",
    "Clean_Data_2018.to_csv('../data/processed/2018_Clean_Data.csv', index=False)"
   ]
  },
  {
   "cell_type": "code",
   "execution_count": 75,
   "id": "f8258ffe-a538-4496-b453-3b21ec464300",
   "metadata": {},
   "outputs": [],
   "source": [
    "Clean_Data_2019 = (Raw_Data_2019\n",
    "                   .rename(columns={'Healthy life expectancy':'Health (Life Expectancy)'\n",
    "                                    , 'GDP per capita': 'Economy (GDP per Capita)', 'Country or region': 'Country'\n",
    "                                    ,'Score': 'Happiness Score'})\n",
    "                )\n",
    "Clean_Data_2019['Region'] = Clean_Data_2019['Country'].map(Clean_Data_2018.set_index('Country')['Region'])\n",
    "Clean_Data_2019.to_csv('../data/processed/2019_Clean_Data.csv', index=False)"
   ]
  },
  {
   "cell_type": "code",
   "execution_count": 77,
   "id": "510b8f52-ddb0-4166-89ab-95b54bdc261f",
   "metadata": {},
   "outputs": [],
   "source": [
    "extracted_col = Raw_Data_2019['Overall rank']\n",
    "Clean_Data_2020 = (Raw_Data_2020\n",
    "              .drop(['upperwhisker', 'lowerwhisker','Standard error of ladder score'], axis=1)\n",
    "              .rename(columns={'Country name' : 'Country', 'Ladder score': 'Happiness Score', 'Regional indicator': 'Region'})\n",
    "              .join(extracted_col)\n",
    "              .to_csv('../data/processed/2020_Clean_Data.csv', index=False)\n",
    "                )\n"
   ]
  },
  {
   "cell_type": "code",
   "execution_count": 79,
   "id": "8f614361-8b9f-4080-a108-62ccd9a96ae5",
   "metadata": {},
   "outputs": [],
   "source": [
    "Clean_Data_2021 = (Raw_Data_2021\n",
    "              .drop(['upperwhisker', 'lowerwhisker','Standard error of ladder score'], axis=1)\n",
    "              .rename(columns={\"Ladder score\": \"Happiness Score\"})\n",
    "              .join(extracted_col)\n",
    "              .to_csv('../data/processed/2021_Clean_Data.csv', index=False)\n",
    "                )"
   ]
  },
  {
   "cell_type": "code",
   "execution_count": 80,
   "id": "254a5d23-f6d8-45d4-a6cd-10bc2185d432",
   "metadata": {},
   "outputs": [],
   "source": [
    "Clean_Data_2022 = (Raw_Data_2022\n",
    "              .drop(['Whisker-high', 'Whisker-low'], axis=1)\n",
    "              .rename(columns={'RANK': 'Overall rank'})\n",
    "              .to_csv('../data/processed/2022_Clean_Data.csv', index=False)\n",
    "                )"
   ]
  },
  {
   "cell_type": "code",
   "execution_count": null,
   "id": "84792304-782a-4cbe-b1f1-a4334e722ea6",
   "metadata": {},
   "outputs": [],
   "source": []
  }
 ],
 "metadata": {
  "kernelspec": {
   "display_name": "Python 3 (ipykernel)",
   "language": "python",
   "name": "python3"
  },
  "language_info": {
   "codemirror_mode": {
    "name": "ipython",
    "version": 3
   },
   "file_extension": ".py",
   "mimetype": "text/x-python",
   "name": "python",
   "nbconvert_exporter": "python",
   "pygments_lexer": "ipython3",
   "version": "3.10.8"
  }
 },
 "nbformat": 4,
 "nbformat_minor": 5
}
