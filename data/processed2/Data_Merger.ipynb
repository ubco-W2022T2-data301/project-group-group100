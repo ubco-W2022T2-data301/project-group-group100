{
 "cells": [
  {
   "cell_type": "code",
   "execution_count": 2,
   "id": "21500de3-41c7-45c7-9461-3fc802c09bc7",
   "metadata": {},
   "outputs": [],
   "source": [
    "import pandas as pd\n",
    "import numpy as np\n",
    "import matplotlib.pyplot as plt\n",
    "import seaborn as sns\n",
    "\n",
    "Data2015 = pd.read_csv('../../data/processed/2015_Clean_Data.csv')\n",
    "Data2016 = pd.read_csv('../../data/processed/2016_Clean_Data.csv')\n",
    "Data2017 = pd.read_csv('../../data/processed/2017_Clean_Data.csv')\n",
    "Data2018 = pd.read_csv('../../data/processed/2018_Clean_Data.csv')\n",
    "Data2019 = pd.read_csv('../../data/processed/2019_Clean_Data.csv')\n",
    "Data2020 = pd.read_csv('../../data/processed/2020_Clean_Data.csv')\n",
    "Data2021 = pd.read_csv('../../data/processed/2021_Clean_Data.csv')\n",
    "Data2022 = pd.read_csv('../../data/processed/2022_Clean_Data.csv')"
   ]
  },
  {
   "cell_type": "code",
   "execution_count": 3,
   "id": "6f0a0693-602e-4618-bae9-382a83de4fb6",
   "metadata": {},
   "outputs": [],
   "source": [
    "dataFrames = [Data2015, Data2016, Data2017, Data2018, Data2019, Data2020, Data2021, Data2022]\n",
    "\n",
    "for x in dataFrames:\n",
    "    x['Country'] = x['Country'].str.rstrip('*')\n",
    "\n",
    "df_merged = pd.concat(dataFrames).groupby('Country').sum(numeric_only=True).reset_index()\n",
    "df_merged['Happiness Rank'] = df_merged['Happiness Score'].rank(ascending=False).astype(int)\n",
    "df_merged = df_merged.sort_values('Happiness Rank')\n",
    "float_cols = df_merged.select_dtypes(include='float')\n",
    "df_merged[float_cols.columns] = float_cols.round(2)\n",
    "df_merged.to_csv('Overall(No-Year)_Clean_Data.csv', index=False)\n",
    "\n"
   ]
  },
  {
   "cell_type": "code",
   "execution_count": 4,
   "id": "5b0886a5-d995-402d-bfe0-910cb09661fc",
   "metadata": {},
   "outputs": [],
   "source": [
    "Data2015['Year'] = 2015\n",
    "Data2016['Year'] = 2016\n",
    "Data2017['Year'] = 2017\n",
    "Data2018['Year'] = 2018\n",
    "Data2019['Year'] = 2019\n",
    "Data2020['Year'] = 2020\n",
    "Data2021['Year'] = 2021\n",
    "Data2022['Year'] = 2022\n",
    "dataFrames = [Data2015, Data2016, Data2017, Data2018, Data2019, Data2020, Data2021, Data2022]\n",
    "\n",
    "for x in dataFrames:\n",
    "    x['Country'] = x['Country'].str.rstrip('*')\n",
    "\n",
    "df_merged = pd.concat(dataFrames).groupby(['Country', 'Year']).sum(numeric_only=True).reset_index()\n",
    "float_cols = df_merged.select_dtypes(include='float')\n",
    "df_merged[float_cols.columns] = float_cols.round(2)\n",
    "df_merged.to_csv('Overall(With-year)_Clean_Data.csv', index=False)"
   ]
  },
  {
   "cell_type": "code",
   "execution_count": 6,
   "id": "27ae58de-eb18-4e1d-a035-2d62d7c6bad7",
   "metadata": {},
   "outputs": [
    {
     "data": {
      "text/plain": [
       "Index(['Country', 'Year', 'Region', 'Happiness Rank', 'Happiness Score',\n",
       "       'Economy (GDP per Capita)', 'Family', 'Health (Life Expectancy)',\n",
       "       'Freedom to make life choices', 'Trust (Government Corruption)',\n",
       "       'Generosity', 'Dystopia Residual', 'Social support',\n",
       "       'Perceptions of corruption', 'Logged GDP per capita',\n",
       "       'Healthy life expectancy', 'Ladder score in Dystopia',\n",
       "       'Explained by: Log GDP per capita', 'Explained by: Social support',\n",
       "       'Explained by: Healthy life expectancy',\n",
       "       'Explained by: Freedom to make life choices',\n",
       "       'Explained by: Generosity', 'Explained by: Perceptions of corruption',\n",
       "       'Dystopia + residual', 'Dystopia (1.83) + residual',\n",
       "       'Explained by: GDP per capita'],\n",
       "      dtype='object')"
      ]
     },
     "execution_count": 6,
     "metadata": {},
     "output_type": "execute_result"
    }
   ],
   "source": [
    "# Create a dictionary to map similar regions together\n",
    "region_dict = {\n",
    "    'Southern Asia': 'South Asia',\n",
    "    'Middle East and Northern Africa': 'Middle East and North Africa',\n",
    "    'Sub-Saharan Africa': 'Africa',\n",
    "    'Latin America and Caribbean': 'Latin America',\n",
    "    'Commonwealth of Independent States': 'CIS',\n",
    "    'Australia and New Zealand': 'ANZ',\n",
    "    'North America and ANZ': 'North America',\n",
    "    'Southeastern Asia': 'Southeast Asia',\n",
    "    'Eastern Asia': 'East Asia'\n",
    "}\n",
    "\n",
    "\n",
    "df_merged = pd.concat(dataFrames).groupby(['Country', 'Year','Region']).sum(numeric_only=True).reset_index()\n",
    "float_cols = df_merged.select_dtypes(include='float')\n",
    "df_merged[float_cols.columns] = float_cols.round(2)\n",
    "\n",
    "# Replace the incorrect region spellings with the correct ones\n",
    "df_merged['Region'] = df_merged['Region'].replace(region_dict)\n",
    "\n",
    "# Drop rows containing 'ANZ' or 'CIS' in the 'Region' column\n",
    "df_merged = df_merged[~df_merged['Region'].isin(['ANZ', 'CIS'])]\n",
    "\n",
    "# Replace any other regions with the appropriate values using region_dict\n",
    "df_merged.loc[:, 'Region'] = df_merged['Region'].replace(region_dict)\n",
    "\n",
    "df_merged.columns\n",
    "#df_merged.to_csv('Overall(With-Region-Year)_Clean_Data.csv', index=False)"
   ]
  },
  {
   "cell_type": "code",
   "execution_count": null,
   "id": "6f140d5a-b293-47aa-8dc7-7ebbaaa4d20a",
   "metadata": {},
   "outputs": [],
   "source": []
  }
 ],
 "metadata": {
  "kernelspec": {
   "display_name": "Python 3 (ipykernel)",
   "language": "python",
   "name": "python3"
  },
  "language_info": {
   "codemirror_mode": {
    "name": "ipython",
    "version": 3
   },
   "file_extension": ".py",
   "mimetype": "text/x-python",
   "name": "python",
   "nbconvert_exporter": "python",
   "pygments_lexer": "ipython3",
   "version": "3.10.1"
  }
 },
 "nbformat": 4,
 "nbformat_minor": 5
}
